{
 "cells": [
  {
   "cell_type": "markdown",
   "metadata": {},
   "source": [
    "# Introduction"
   ]
  },
  {
   "cell_type": "markdown",
   "metadata": {},
   "source": [
    "The use of neocorticoids and other pesticides against insects is a growing problem because they are targeting not only the target insects which can act as pests but also useful ones like honey bees. There is a rapid decrease in the number of insects. Also it was shown before that insecticides can reduce the defense strength of the beehives against the [varroa mites](https://www.nature.com/articles/s41598-019-44207-1).\n",
    "<br>\n",
    "<br>\n",
    "Without these insects the agriculture will lose a major contributor to the pollination of plants, which can lead to crop failures and famines. 70% of the 124 most important crops worldwide depend on pollination by insects. In Europe, the figure is as high as 84%. This fact makes the pollinating insects and with them the commercially used honey bees to one of the most if not the most important livestock. In Germany the honey bee is the third most used farm animal, right after cattle (1st place) and pigs (2nd place). In 2005, the estimated commercial value of western honey bees was just under 200 billion US-Dollars worldwide.\n",
    "<br>\n",
    "<br>\n",
    "This is why I want to predict the health status of beehives based on a [kaggle dataset](https://www.kaggle.com/jenny18/honey-bee-annotated-images) that contains 5,100+ bee images annotated with location, date, time, subspecies, health condition, caste, and pollen. \n",
    "The first steps will be getting an overview about the dataset and how the different annotations of the pictures are distributed, then I want to build a basic classification models using supervised or unsupervised machine learning and then improve the prediction if possible with CNN and improving it. The final goal it will be to use GCP and Google Vision. The major challenges of this data set will be the different sizes and quality of the bee images and the testing of the model on beehive livestreams.\n",
    "The success of this project will be defined by the accuracy of the detection of the health status of beehives in the real world and the usability for primary stakeholders like beekeepers. "
   ]
  },
  {
   "cell_type": "code",
   "execution_count": null,
   "metadata": {
    "ExecuteTime": {
     "end_time": "2020-08-09T14:44:51.561380Z",
     "start_time": "2020-08-09T14:44:43.469527Z"
    }
   },
   "outputs": [],
   "source": [
    "# Base Modules\n",
    "import pandas as pd\n",
    "import numpy as np\n",
    "import matplotlib.pyplot as plt\n",
    "import matplotlib\n",
    "import seaborn as sns\n",
    "import random\n",
    "import scipy\n",
    "import argparse\n",
    "import plotly.graph_objects as go\n",
    "import pgeocode\n",
    "import plotly.express as px\n",
    "from IPython.display import Image\n",
    "\n",
    "# Image processing\n",
    "import cv2\n",
    "import imageio\n",
    "import skimage\n",
    "import skimage.io\n",
    "import skimage.transform\n",
    "from skimage.color import rgb2gray\n",
    "\n",
    "# Tensorflow\n",
    "from sklearn.preprocessing import LabelBinarizer\n",
    "from tensorflow.keras.optimizers import SGD\n",
    "from tensorflow.keras.models import Model\n",
    "from tensorflow.keras.layers import Input\n",
    "from tensorflow.keras.applications import ResNet50\n",
    "from tensorflow.keras.layers import Dropout\n",
    "from tensorflow.keras import optimizers\n",
    "from tensorflow.keras.models import Sequential\n",
    "from tensorflow.keras.layers import Dense, Conv2D, Flatten, Dropout, MaxPooling2D, AveragePooling2D\n",
    "from tensorflow.keras.preprocessing.image import ImageDataGenerator\n",
    "from tensorflow.keras.callbacks import ModelCheckpoint, Callback, EarlyStopping, ReduceLROnPlateau\n",
    "from tensorflow.keras.utils import to_categorical, plot_model\n",
    "import tensorflow\n",
    "\n",
    "\n",
    "#Sklearn\n",
    "from sklearn import metrics\n",
    "from sklearn.metrics import f1_score\n",
    "from sklearn.decomposition import PCA as RandomizedPCA\n",
    "from sklearn.model_selection import train_test_split\n",
    "from sklearn.pipeline import make_pipeline\n",
    "from sklearn.svm import SVC\n",
    "from sklearn.cluster import DBSCAN as dbs\n",
    "from sklearn.model_selection import GridSearchCV\n",
    "\n",
    "RSEED=42\n",
    "bee_imgs = \"../capstone_working/bee_imgs/bee_imgs/\"\n",
    "sns.set(font='sans-serif', font_scale=1)"
   ]
  },
  {
   "cell_type": "markdown",
   "metadata": {
    "ExecuteTime": {
     "end_time": "2020-07-16T14:14:24.453735Z",
     "start_time": "2020-07-16T14:13:52.183047Z"
    }
   },
   "source": [
    "# Bee Data Health Status"
   ]
  },
  {
   "cell_type": "markdown",
   "metadata": {},
   "source": [
    "| Variable | Definition | Key |\n",
    "|---|---|---|\n",
    "| datetime | Date of the Measurment | Year-Month-Day Hour:Minute:Second|\n",
    "|file| Filename of the Image| filename.png|\n",
    "|location|Location of the Beehive |City, State, Country |\n",
    "|zip code| Zipcode of the City|- |\n",
    "|subspecies| Subspecies of the Honey Bee| Italian, Russian, Carniolan, Mixed, -1, VSH Italian, Western|\n",
    "|health| Health Status of the Beehive| Varroa mites and Hive Beetles, Healthy, Hive Being Robbed, Ant Problems, Missing Queen|\n",
    "|pollen_carrying| Boolean if the Honey Bee on the Image is carrying Pollen| False or True|\n",
    "|caste| Caste of the Honey Bee on the Image| Caste (in this case only workers)|"
   ]
  },
  {
   "cell_type": "code",
   "execution_count": null,
   "metadata": {
    "ExecuteTime": {
     "end_time": "2020-08-09T14:44:52.006204Z",
     "start_time": "2020-08-09T14:44:51.562380Z"
    }
   },
   "outputs": [],
   "source": [
    "bee_data = pd.read_csv('../capstone_working/bee_data.csv',\n",
    "                       parse_dates={'datetime': [1, 2]},\n",
    "                       dtype={'subspecies': 'category','health': 'category','caste': 'category'})"
   ]
  },
  {
   "cell_type": "code",
   "execution_count": null,
   "metadata": {
    "ExecuteTime": {
     "end_time": "2020-08-09T14:44:52.023165Z",
     "start_time": "2020-08-09T14:44:52.007131Z"
    }
   },
   "outputs": [],
   "source": [
    "bee_data.head()"
   ]
  },
  {
   "cell_type": "code",
   "execution_count": null,
   "metadata": {
    "ExecuteTime": {
     "end_time": "2020-08-09T14:44:52.031134Z",
     "start_time": "2020-08-09T14:44:52.024131Z"
    }
   },
   "outputs": [],
   "source": [
    "bee_data.columns = bee_data.columns.str.replace(' ', '_')"
   ]
  },
  {
   "cell_type": "markdown",
   "metadata": {},
   "source": [
    "# EDA for the Bee images for Health detection"
   ]
  },
  {
   "cell_type": "code",
   "execution_count": null,
   "metadata": {
    "ExecuteTime": {
     "end_time": "2020-08-09T14:44:52.042132Z",
     "start_time": "2020-08-09T14:44:52.032132Z"
    },
    "tags": []
   },
   "outputs": [],
   "source": [
    "bee_data.info()"
   ]
  },
  {
   "cell_type": "code",
   "execution_count": null,
   "metadata": {
    "ExecuteTime": {
     "end_time": "2020-08-09T14:44:52.055134Z",
     "start_time": "2020-08-09T14:44:52.043132Z"
    }
   },
   "outputs": [],
   "source": [
    "bee_data.describe()"
   ]
  },
  {
   "cell_type": "markdown",
   "metadata": {},
   "source": [
    "### Looking at health and subspecies"
   ]
  },
  {
   "cell_type": "code",
   "execution_count": null,
   "metadata": {
    "ExecuteTime": {
     "end_time": "2020-08-09T14:45:00.468025Z",
     "start_time": "2020-08-09T14:44:52.056132Z"
    },
    "scrolled": true
   },
   "outputs": [],
   "source": [
    "bee_data_health = bee_data.health.value_counts()\n",
    "fig = px.bar(bee_data_health, y='health',\n",
    "             hover_data=['health'], color='health',\n",
    "             labels={'health':'Number of Images', 'index': 'Health Status'}, height=400)\n",
    "#fig.show()\n",
    "fig.write_image(\"plots/fig1.png\")\n",
    "Image(\"plots/fig1.png\")"
   ]
  },
  {
   "cell_type": "code",
   "execution_count": null,
   "metadata": {
    "ExecuteTime": {
     "end_time": "2020-08-09T14:45:00.564993Z",
     "start_time": "2020-08-09T14:45:00.469993Z"
    }
   },
   "outputs": [],
   "source": [
    "bee_data_sub = bee_data.subspecies.value_counts()\n",
    "fig = px.bar(bee_data_sub, y='subspecies',\n",
    "             hover_data=['subspecies'], color='subspecies',\n",
    "             labels={'subspecies':'Number of Images', 'index': 'Subspecies'}, height=400)\n",
    "#fig.show()\n",
    "fig.write_image(\"plots/fig2.png\")\n",
    "Image(\"plots/fig2.png\")"
   ]
  },
  {
   "cell_type": "markdown",
   "metadata": {},
   "source": [
    "### Looking at the caste of the bees"
   ]
  },
  {
   "cell_type": "code",
   "execution_count": null,
   "metadata": {
    "ExecuteTime": {
     "end_time": "2020-08-09T14:45:00.624993Z",
     "start_time": "2020-08-09T14:45:00.565993Z"
    }
   },
   "outputs": [],
   "source": [
    "bee_data_caste = bee_data.caste.value_counts()\n",
    "fig = px.bar(bee_data_caste, y='caste',\n",
    "             hover_data=['caste'],\n",
    "             labels={'caste':'Number of Images', 'index': 'Caste'}, height=400)\n",
    "#fig.show()\n",
    "fig.write_image(\"plots/fig3.png\")\n",
    "Image(\"plots/fig3.png\")"
   ]
  },
  {
   "cell_type": "code",
   "execution_count": null,
   "metadata": {
    "ExecuteTime": {
     "end_time": "2020-08-09T14:45:00.688992Z",
     "start_time": "2020-08-09T14:45:00.625994Z"
    },
    "scrolled": true
   },
   "outputs": [],
   "source": [
    "bee_data_pollen = bee_data.pollen_carrying.value_counts()\n",
    "fig = px.bar(bee_data_pollen, y='pollen_carrying',\n",
    "             hover_data=['pollen_carrying'],\n",
    "             labels={'pollen_carrying':'Number of Images', 'index': 'Pollen Carrying'}, height=400)\n",
    "#fig.show()\n",
    "fig.write_image(\"plots/fig4.png\")\n",
    "Image(\"plots/fig4.png\")"
   ]
  },
  {
   "cell_type": "markdown",
   "metadata": {
    "ExecuteTime": {
     "end_time": "2020-07-15T08:51:50.053940Z",
     "start_time": "2020-07-15T08:51:50.040033Z"
    }
   },
   "source": [
    "### Creating Dummies"
   ]
  },
  {
   "cell_type": "code",
   "execution_count": null,
   "metadata": {
    "ExecuteTime": {
     "end_time": "2020-08-09T14:45:00.692994Z",
     "start_time": "2020-08-09T14:45:00.689993Z"
    }
   },
   "outputs": [],
   "source": [
    "bee_data_dum = bee_data.copy()"
   ]
  },
  {
   "cell_type": "markdown",
   "metadata": {},
   "source": [
    "#### Subspecies"
   ]
  },
  {
   "cell_type": "code",
   "execution_count": null,
   "metadata": {
    "ExecuteTime": {
     "end_time": "2020-08-09T14:45:00.696992Z",
     "start_time": "2020-08-09T14:45:00.693993Z"
    }
   },
   "outputs": [],
   "source": [
    "subspecies_dummies = pd.get_dummies(bee_data_dum.subspecies, drop_first=True)"
   ]
  },
  {
   "cell_type": "code",
   "execution_count": null,
   "metadata": {
    "ExecuteTime": {
     "end_time": "2020-08-09T14:45:00.701991Z",
     "start_time": "2020-08-09T14:45:00.697994Z"
    }
   },
   "outputs": [],
   "source": [
    "subspecies_dummies.columns = subspecies_dummies.columns.str.replace(' ', '_')"
   ]
  },
  {
   "cell_type": "markdown",
   "metadata": {},
   "source": [
    "#### Pollen Carrying"
   ]
  },
  {
   "cell_type": "code",
   "execution_count": null,
   "metadata": {
    "ExecuteTime": {
     "end_time": "2020-08-09T14:45:00.707992Z",
     "start_time": "2020-08-09T14:45:00.702993Z"
    }
   },
   "outputs": [],
   "source": [
    "pollen_dummies = pd.get_dummies(bee_data_dum.pollen_carrying, drop_first=True, prefix = 'pollen_')"
   ]
  },
  {
   "cell_type": "markdown",
   "metadata": {},
   "source": [
    "#### Health"
   ]
  },
  {
   "cell_type": "code",
   "execution_count": null,
   "metadata": {
    "ExecuteTime": {
     "end_time": "2020-08-09T14:45:00.712993Z",
     "start_time": "2020-08-09T14:45:00.708993Z"
    }
   },
   "outputs": [],
   "source": [
    "health_dummies = pd.get_dummies(bee_data_dum.health, drop_first=True)"
   ]
  },
  {
   "cell_type": "code",
   "execution_count": null,
   "metadata": {
    "ExecuteTime": {
     "end_time": "2020-08-09T14:45:00.717994Z",
     "start_time": "2020-08-09T14:45:00.713993Z"
    }
   },
   "outputs": [],
   "source": [
    "health_dummies.columns = health_dummies.columns.str.replace(' ', '_')"
   ]
  },
  {
   "cell_type": "code",
   "execution_count": null,
   "metadata": {
    "ExecuteTime": {
     "end_time": "2020-08-09T14:45:00.723994Z",
     "start_time": "2020-08-09T14:45:00.718993Z"
    }
   },
   "outputs": [],
   "source": [
    "health_dummies.missing_queen.value_counts()"
   ]
  },
  {
   "cell_type": "code",
   "execution_count": null,
   "metadata": {
    "ExecuteTime": {
     "end_time": "2020-08-09T14:45:00.729996Z",
     "start_time": "2020-08-09T14:45:00.724992Z"
    }
   },
   "outputs": [],
   "source": [
    "health_dummies.hive_being_robbed.value_counts()"
   ]
  },
  {
   "cell_type": "markdown",
   "metadata": {},
   "source": [
    "#### Location"
   ]
  },
  {
   "cell_type": "code",
   "execution_count": null,
   "metadata": {
    "ExecuteTime": {
     "end_time": "2020-08-09T14:45:00.735991Z",
     "start_time": "2020-08-09T14:45:00.730992Z"
    }
   },
   "outputs": [],
   "source": [
    "location_dummies = pd.get_dummies(bee_data_dum.location, drop_first=True)"
   ]
  },
  {
   "cell_type": "code",
   "execution_count": null,
   "metadata": {
    "ExecuteTime": {
     "end_time": "2020-08-09T14:45:00.739994Z",
     "start_time": "2020-08-09T14:45:00.736993Z"
    }
   },
   "outputs": [],
   "source": [
    "location_dummies.columns = location_dummies.columns.str.replace(' ', '_')"
   ]
  },
  {
   "cell_type": "markdown",
   "metadata": {},
   "source": [
    "#### zip code"
   ]
  },
  {
   "cell_type": "code",
   "execution_count": null,
   "metadata": {
    "ExecuteTime": {
     "end_time": "2020-08-09T14:45:00.745990Z",
     "start_time": "2020-08-09T14:45:00.740994Z"
    }
   },
   "outputs": [],
   "source": [
    "zip_dummies = pd.get_dummies(bee_data_dum.zip_code, drop_first=True)"
   ]
  },
  {
   "cell_type": "markdown",
   "metadata": {},
   "source": [
    "#### caste"
   ]
  },
  {
   "cell_type": "code",
   "execution_count": null,
   "metadata": {
    "ExecuteTime": {
     "end_time": "2020-08-09T14:45:00.749995Z",
     "start_time": "2020-08-09T14:45:00.746993Z"
    }
   },
   "outputs": [],
   "source": [
    "caste_dummies = pd.get_dummies(bee_data_dum.caste)"
   ]
  },
  {
   "cell_type": "markdown",
   "metadata": {},
   "source": [
    "#### Create new data frame with dummies"
   ]
  },
  {
   "cell_type": "code",
   "execution_count": null,
   "metadata": {
    "ExecuteTime": {
     "end_time": "2020-08-09T14:45:00.756996Z",
     "start_time": "2020-08-09T14:45:00.752992Z"
    }
   },
   "outputs": [],
   "source": [
    "drop_columns = [\n",
    "    'health', 'subspecies', 'pollen_carrying', 'caste', 'location', 'zip_code'\n",
    "]\n",
    "bee_data_dum.drop(drop_columns, axis=1, inplace=True)"
   ]
  },
  {
   "cell_type": "code",
   "execution_count": null,
   "metadata": {
    "ExecuteTime": {
     "end_time": "2020-08-09T14:45:00.777995Z",
     "start_time": "2020-08-09T14:45:00.758995Z"
    },
    "scrolled": true
   },
   "outputs": [],
   "source": [
    "bee_data_dum = pd.concat([\n",
    "    bee_data_dum, health_dummies, pollen_dummies, subspecies_dummies,\n",
    "    caste_dummies, zip_dummies, location_dummies\n",
    "],\n",
    "                         axis=1)\n",
    "bee_data_dum.head()"
   ]
  },
  {
   "cell_type": "markdown",
   "metadata": {},
   "source": [
    "### Heatmaps"
   ]
  },
  {
   "cell_type": "code",
   "execution_count": null,
   "metadata": {
    "ExecuteTime": {
     "end_time": "2020-08-09T14:45:02.279026Z",
     "start_time": "2020-08-09T14:45:00.778994Z"
    },
    "scrolled": true
   },
   "outputs": [],
   "source": [
    "matrix = np.triu(bee_data_dum.corr())\n",
    "plt.subplots(figsize=(50, 50))\n",
    "sns.heatmap(bee_data_dum.corr(),\n",
    "            mask=matrix,\n",
    "            annot=True,\n",
    "            fmt='.1g',\n",
    "            vmin=-1,\n",
    "            vmax=1,\n",
    "            center=0,\n",
    "            cmap='YlGnBu',\n",
    "            linewidth=.1);"
   ]
  },
  {
   "cell_type": "markdown",
   "metadata": {},
   "source": [
    "## Feature engineering"
   ]
  },
  {
   "cell_type": "markdown",
   "metadata": {},
   "source": [
    "Adding more Info to the location "
   ]
  },
  {
   "cell_type": "code",
   "execution_count": null,
   "metadata": {
    "ExecuteTime": {
     "end_time": "2020-08-09T14:45:02.459000Z",
     "start_time": "2020-08-09T14:45:02.280025Z"
    }
   },
   "outputs": [],
   "source": [
    "idx_lst = []\n",
    "zip_lst = []\n",
    "zip_data = pgeocode.Nominatim('us')\n",
    "for idx, zip in bee_data.zip_code.iteritems():\n",
    "    idx_lst.append(idx)\n",
    "    zip_lst.append(str(zip))\n",
    "zip_data = zip_data.query_postal_code(zip_lst)"
   ]
  },
  {
   "cell_type": "code",
   "execution_count": null,
   "metadata": {
    "ExecuteTime": {
     "end_time": "2020-08-09T14:45:02.463995Z",
     "start_time": "2020-08-09T14:45:02.459990Z"
    }
   },
   "outputs": [],
   "source": [
    "zip_data.drop(['county_code', 'community_name', 'community_code', 'accuracy'],axis=1, inplace=True)"
   ]
  },
  {
   "cell_type": "code",
   "execution_count": null,
   "metadata": {
    "ExecuteTime": {
     "end_time": "2020-08-09T14:45:02.467994Z",
     "start_time": "2020-08-09T14:45:02.464995Z"
    }
   },
   "outputs": [],
   "source": [
    "zip_data.columns = zip_data.columns.str.replace(' ', '_')"
   ]
  },
  {
   "cell_type": "code",
   "execution_count": null,
   "metadata": {
    "ExecuteTime": {
     "end_time": "2020-08-09T14:45:02.477994Z",
     "start_time": "2020-08-09T14:45:02.468993Z"
    },
    "scrolled": true
   },
   "outputs": [],
   "source": [
    "zip_data.head()"
   ]
  },
  {
   "cell_type": "code",
   "execution_count": null,
   "metadata": {
    "ExecuteTime": {
     "end_time": "2020-08-09T14:45:02.488992Z",
     "start_time": "2020-08-09T14:45:02.478994Z"
    }
   },
   "outputs": [],
   "source": [
    "bee_data.drop(['location', 'zip_code'], axis=1, inplace=True)"
   ]
  },
  {
   "cell_type": "code",
   "execution_count": null,
   "metadata": {
    "ExecuteTime": {
     "end_time": "2020-08-09T14:45:02.494990Z",
     "start_time": "2020-08-09T14:45:02.489993Z"
    }
   },
   "outputs": [],
   "source": [
    "bee_data = pd.concat([\n",
    "    bee_data, zip_data\n",
    "],\n",
    "                         axis=1)"
   ]
  },
  {
   "cell_type": "code",
   "execution_count": null,
   "metadata": {
    "ExecuteTime": {
     "end_time": "2020-08-09T14:45:03.625352Z",
     "start_time": "2020-08-09T14:45:02.495994Z"
    }
   },
   "outputs": [],
   "source": [
    "fig = px.scatter_mapbox(bee_data,\n",
    "                        lat=\"latitude\",\n",
    "                        lon=\"longitude\",\n",
    "                        color_discrete_sequence= ['red'],\n",
    "                        center=dict(lat=40.55, lon=-101.91),\n",
    "                        zoom=2\n",
    "                        )\n",
    "fig.update_layout(mapbox_style=\"open-street-map\") \n",
    "#fig.show()\n",
    "fig.write_image(\"plots/fig5.png\")\n",
    "Image(\"plots/fig5.png\")"
   ]
  },
  {
   "cell_type": "markdown",
   "metadata": {},
   "source": [
    "The categories 'few varrao, hive beetles' and 'Varroa, small hive beetles' in the column 'health' both detect Varroa mites and Hive beetles. That's why they will be combined in the next steps."
   ]
  },
  {
   "cell_type": "code",
   "execution_count": null,
   "metadata": {
    "ExecuteTime": {
     "end_time": "2020-08-09T14:45:03.630350Z",
     "start_time": "2020-08-09T14:45:03.626352Z"
    },
    "scrolled": true
   },
   "outputs": [],
   "source": [
    "bee_data.health.unique()"
   ]
  },
  {
   "cell_type": "code",
   "execution_count": null,
   "metadata": {
    "ExecuteTime": {
     "end_time": "2020-08-09T14:45:03.636349Z",
     "start_time": "2020-08-09T14:45:03.631350Z"
    }
   },
   "outputs": [],
   "source": [
    "new_cat = {\n",
    "    'few varrao, hive beetles': 'varroa and hive beetles',\n",
    "    'Varroa, Small Hive Beetles': 'varroa and hive beetles'\n",
    "}\n",
    "\n",
    "bee_data.health.replace(new_cat, inplace=True)"
   ]
  },
  {
   "cell_type": "code",
   "execution_count": null,
   "metadata": {
    "ExecuteTime": {
     "end_time": "2020-08-09T14:45:03.643350Z",
     "start_time": "2020-08-09T14:45:03.637351Z"
    }
   },
   "outputs": [],
   "source": [
    "bee_data.health.astype('category', inplace=True).dtype"
   ]
  },
  {
   "cell_type": "markdown",
   "metadata": {},
   "source": [
    "Only 29 entries have 'missing queen' as health status, because I doubt that a missing queen can be detected in images of single bees I will drop those."
   ]
  },
  {
   "cell_type": "code",
   "execution_count": null,
   "metadata": {
    "ExecuteTime": {
     "end_time": "2020-08-09T14:45:03.651355Z",
     "start_time": "2020-08-09T14:45:03.644350Z"
    }
   },
   "outputs": [],
   "source": [
    "index_num = bee_data[bee_data['health'] == 'missing queen'].index"
   ]
  },
  {
   "cell_type": "code",
   "execution_count": null,
   "metadata": {
    "ExecuteTime": {
     "end_time": "2020-08-09T14:45:03.659353Z",
     "start_time": "2020-08-09T14:45:03.653353Z"
    }
   },
   "outputs": [],
   "source": [
    "bee_data.drop(index_num , inplace=True)"
   ]
  },
  {
   "cell_type": "markdown",
   "metadata": {},
   "source": [
    "## Looking at the pictures"
   ]
  },
  {
   "cell_type": "code",
   "execution_count": null,
   "metadata": {
    "ExecuteTime": {
     "end_time": "2020-08-09T14:45:04.816353Z",
     "start_time": "2020-08-09T14:45:03.660349Z"
    }
   },
   "outputs": [],
   "source": [
    "subspecies = bee_data['subspecies'].cat.categories\n",
    "f, ax = plt.subplots(nrows=1, ncols=subspecies.size, figsize=(12, 3))\n",
    "i = 0\n",
    "for s in subspecies:\n",
    "    if s == 'healthy':\n",
    "        continue\n",
    "    file = bee_imgs + bee_data[bee_data['subspecies'] == s].iloc[0]['file']\n",
    "    im = imageio.imread(file)\n",
    "    ax[i].imshow(im, resample=True)\n",
    "    ax[i].set_title(s, fontsize=8)\n",
    "    i += 1\n",
    "\n",
    "plt.suptitle(\"Subspecies of Bee\")\n",
    "plt.tight_layout()\n",
    "plt.show()"
   ]
  },
  {
   "cell_type": "code",
   "execution_count": null,
   "metadata": {
    "ExecuteTime": {
     "end_time": "2020-08-09T14:45:05.662381Z",
     "start_time": "2020-08-09T14:45:04.818350Z"
    }
   },
   "outputs": [],
   "source": [
    "n = 5\n",
    "healthy = bee_data[bee_data['health'] == 'healthy'].sample(n)\n",
    "\n",
    "f, ax = plt.subplots(nrows=1, ncols=n, figsize=(12, 3))\n",
    "# Read image of original size from disk, because bees['img'] contains resized numpy array\n",
    "for i in range(0, 5):\n",
    "    file = bee_imgs + healthy.iloc[i]['file']\n",
    "    ax[i].imshow(imageio.imread(file))\n",
    "\n",
    "plt.suptitle(\"Healthy Bees\")\n",
    "plt.tight_layout()\n",
    "plt.show()"
   ]
  },
  {
   "cell_type": "code",
   "execution_count": null,
   "metadata": {
    "ExecuteTime": {
     "end_time": "2020-08-09T14:45:05.667351Z",
     "start_time": "2020-08-09T14:45:05.663348Z"
    }
   },
   "outputs": [],
   "source": [
    "health_cats = set()\n",
    "for d in bee_data.health:\n",
    "    health_cats.add(d)"
   ]
  },
  {
   "cell_type": "code",
   "execution_count": null,
   "metadata": {
    "ExecuteTime": {
     "end_time": "2020-08-09T14:45:06.238454Z",
     "start_time": "2020-08-09T14:45:05.668349Z"
    },
    "code_folding": []
   },
   "outputs": [],
   "source": [
    "f, ax = plt.subplots(1, len(health_cats) - 1, figsize=(12, 4))\n",
    "i = 0\n",
    "for c in health_cats:\n",
    "    if c == 'healthy':\n",
    "        continue\n",
    "    bee_img = bee_data[bee_data['health'] == c].sample(1).iloc[0]\n",
    "    ax[i].imshow(imageio.imread(bee_imgs + bee_img['file']))\n",
    "    ax[i].set_title(bee_img['health'], fontsize=8)\n",
    "    i += 1\n",
    "\n",
    "plt.suptitle(\"Unhealthy Bees\")\n",
    "plt.tight_layout()\n",
    "plt.show()"
   ]
  },
  {
   "cell_type": "markdown",
   "metadata": {},
   "source": [
    "### Images are of different sizes"
   ]
  },
  {
   "cell_type": "code",
   "execution_count": null,
   "metadata": {
    "ExecuteTime": {
     "end_time": "2020-08-09T14:45:06.242421Z",
     "start_time": "2020-08-09T14:45:06.239418Z"
    }
   },
   "outputs": [],
   "source": [
    "def resize_img(file):\n",
    "    \"\"\"\n",
    "    Read and resize img, adjust channels.\n",
    "    \"\"\"\n",
    "    img = skimage.io.imread(bee_imgs + file)\n",
    "    img = skimage.transform.resize(img, (100, 100), mode='reflect')\n",
    "    img = rgb2gray(img[:, :, :3])\n",
    "    img = img.flatten()\n",
    "    return img"
   ]
  },
  {
   "cell_type": "markdown",
   "metadata": {},
   "source": [
    "# Base model"
   ]
  },
  {
   "cell_type": "markdown",
   "metadata": {},
   "source": [
    "Splitting the Data into Train- and Testsets."
   ]
  },
  {
   "cell_type": "code",
   "execution_count": null,
   "metadata": {
    "ExecuteTime": {
     "end_time": "2020-08-09T14:45:27.023315Z",
     "start_time": "2020-08-09T14:45:06.243418Z"
    }
   },
   "outputs": [],
   "source": [
    "train_bee, test_bee = train_test_split(bee_data, random_state=RSEED)\n",
    "\n",
    "X_train = np.stack(train_bee['file'].apply(resize_img)) \n",
    "y_train  = train_bee['health']\n",
    "y_test  = test_bee['health']\n",
    "X_test = np.stack(test_bee['file'].apply(resize_img))"
   ]
  },
  {
   "cell_type": "markdown",
   "metadata": {},
   "source": [
    "Create a pipline with PCA and the used model SVM."
   ]
  },
  {
   "cell_type": "code",
   "execution_count": null,
   "metadata": {
    "ExecuteTime": {
     "end_time": "2020-08-09T14:45:27.028283Z",
     "start_time": "2020-08-09T14:45:27.024283Z"
    }
   },
   "outputs": [],
   "source": [
    "pca = RandomizedPCA(n_components=150, whiten=True, random_state=42)\n",
    "svc = SVC(kernel='rbf', class_weight='balanced')\n",
    "model = make_pipeline(pca, svc)"
   ]
  },
  {
   "cell_type": "markdown",
   "metadata": {},
   "source": [
    "Run a GridSearch with Crossvalidation."
   ]
  },
  {
   "cell_type": "code",
   "execution_count": null,
   "metadata": {
    "ExecuteTime": {
     "end_time": "2020-08-09T14:50:02.278625Z",
     "start_time": "2020-08-09T14:45:27.029285Z"
    },
    "tags": []
   },
   "outputs": [],
   "source": [
    "param_grid = {\n",
    "    'svc__C': [1, 5, 10, 50],\n",
    "    'svc__gamma': [0.0001, 0.0005, 0.001, 0.005]\n",
    "}\n",
    "grid = GridSearchCV(model,\n",
    "                    param_grid,\n",
    "                    cv=10,\n",
    "                    verbose=5,\n",
    "                    scoring='f1_weighted',\n",
    "                    n_jobs=-1)\n",
    "%time grid.fit(X_train, y_train)"
   ]
  },
  {
   "cell_type": "code",
   "execution_count": null,
   "metadata": {
    "ExecuteTime": {
     "end_time": "2020-08-09T14:50:02.284629Z",
     "start_time": "2020-08-09T14:50:02.279658Z"
    }
   },
   "outputs": [],
   "source": [
    "best_param = grid.best_params_\n",
    "best_param"
   ]
  },
  {
   "cell_type": "code",
   "execution_count": null,
   "metadata": {
    "ExecuteTime": {
     "end_time": "2020-08-09T14:50:02.288626Z",
     "start_time": "2020-08-09T14:50:02.285625Z"
    }
   },
   "outputs": [],
   "source": [
    "best_model = grid.best_estimator_"
   ]
  },
  {
   "cell_type": "markdown",
   "metadata": {},
   "source": [
    "Predict the Categories of the Testimages with the best Model based on the Gridsearch."
   ]
  },
  {
   "cell_type": "code",
   "execution_count": null,
   "metadata": {
    "ExecuteTime": {
     "end_time": "2020-08-09T14:50:02.888697Z",
     "start_time": "2020-08-09T14:50:02.289626Z"
    }
   },
   "outputs": [],
   "source": [
    "y_pred = best_model.predict(X_test)"
   ]
  },
  {
   "cell_type": "code",
   "execution_count": null,
   "metadata": {
    "ExecuteTime": {
     "end_time": "2020-08-09T14:50:02.892625Z",
     "start_time": "2020-08-09T14:50:02.889627Z"
    }
   },
   "outputs": [],
   "source": [
    "ytest = y_test.to_numpy()"
   ]
  },
  {
   "cell_type": "code",
   "execution_count": null,
   "metadata": {
    "ExecuteTime": {
     "end_time": "2020-08-09T14:50:02.905655Z",
     "start_time": "2020-08-09T14:50:02.893625Z"
    }
   },
   "outputs": [],
   "source": [
    "right = y_pred == ytest"
   ]
  },
  {
   "cell_type": "code",
   "execution_count": null,
   "metadata": {
    "ExecuteTime": {
     "end_time": "2020-08-09T14:50:03.572665Z",
     "start_time": "2020-08-09T14:50:02.906625Z"
    },
    "scrolled": true
   },
   "outputs": [],
   "source": [
    "fig, ax = plt.subplots(4, 6, figsize=(12, 12))\n",
    "counter = 0\n",
    "for i, axi in enumerate(ax.flat):\n",
    "    axi.imshow(X_test[i].reshape(100, 100), cmap='bone')\n",
    "    axi.set(xticks=[], yticks=[])\n",
    "    axi.set_ylabel(y_pred[i], color='black' if right[i] else 'red')\n",
    "\n",
    "fig.suptitle('Predicted Names; Incorrect Labels in Red', size=14)"
   ]
  },
  {
   "cell_type": "code",
   "execution_count": null,
   "metadata": {
    "ExecuteTime": {
     "end_time": "2020-08-09T14:50:03.594625Z",
     "start_time": "2020-08-09T14:50:03.573661Z"
    },
    "scrolled": true,
    "tags": []
   },
   "outputs": [],
   "source": [
    "from sklearn.metrics import classification_report\n",
    "print(classification_report(y_test, y_pred));"
   ]
  },
  {
   "cell_type": "markdown",
   "metadata": {},
   "source": [
    "The base model achieved an accuracy rate of 84% but the recall score of the prediction for the categories 'ant problems' and 'hive being robbed' are very low. Therefore I decided to make a additional neural network.  "
   ]
  },
  {
   "cell_type": "markdown",
   "metadata": {},
   "source": [
    "# Convulutional Neural Network (CNN)"
   ]
  },
  {
   "cell_type": "markdown",
   "metadata": {},
   "source": [
    "Before we can run a neural network we have to balance the data."
   ]
  },
  {
   "cell_type": "code",
   "execution_count": null,
   "metadata": {
    "ExecuteTime": {
     "end_time": "2020-08-09T14:50:03.620652Z",
     "start_time": "2020-08-09T14:50:03.595625Z"
    }
   },
   "outputs": [],
   "source": [
    "g = bee_data.copy()\n",
    "ncat_bal = int(len(bee_data) / len(health_cats))\n",
    "g = pd.DataFrame(g.groupby('health', as_index=False).apply(lambda g: g.sample(ncat_bal, replace=True)).reset_index(drop=True))\n",
    "g.health.value_counts()"
   ]
  },
  {
   "cell_type": "code",
   "execution_count": null,
   "metadata": {
    "ExecuteTime": {
     "end_time": "2020-08-09T14:50:03.692625Z",
     "start_time": "2020-08-09T14:50:03.620652Z"
    }
   },
   "outputs": [],
   "source": [
    "fig = px.bar(bee_data.health.value_counts(), y='health',\n",
    "         hover_data=['health'],\n",
    "         labels={'health':'Number of Images', 'index': 'Health Status'}, height=400)\n",
    "fig.update_layout(title_text='Health Status before Balancing')\n",
    "#fig.show()\n",
    "fig.write_image(\"plots/fig6.png\")\n",
    "Image(\"plots/fig6.png\")"
   ]
  },
  {
   "cell_type": "code",
   "execution_count": null,
   "metadata": {
    "ExecuteTime": {
     "end_time": "2020-08-09T14:50:03.757658Z",
     "start_time": "2020-08-09T14:50:03.693626Z"
    }
   },
   "outputs": [],
   "source": [
    "fig1 = px.bar(g.health.value_counts(), y='health',\n",
    "         hover_data=['health'],\n",
    "         labels={'health':'Number of Images', 'index': 'Health Status'}, height=400)\n",
    "fig1.update_layout(title_text='Health Status after Balancing')\n",
    "#fig1.show()\n",
    "fig1.write_image(\"plots/fig7.png\")\n",
    "Image(\"plots/fig7.png\")"
   ]
  },
  {
   "cell_type": "markdown",
   "metadata": {},
   "source": [
    "Import and resize the images"
   ]
  },
  {
   "cell_type": "code",
   "execution_count": null,
   "metadata": {
    "ExecuteTime": {
     "end_time": "2020-08-09T14:50:06.768695Z",
     "start_time": "2020-08-09T14:50:03.758656Z"
    }
   },
   "outputs": [],
   "source": [
    "data = []\n",
    "categories = []\n",
    "# loop over the image paths\n",
    "for idx in g.index:\n",
    "    cat = g.health[idx]\n",
    "    image = cv2.imread(bee_imgs + g.file[idx])\n",
    "    image = cv2.cvtColor(image, cv2.COLOR_BGR2RGB)\n",
    "    image = cv2.resize(image, (128, 128))\n",
    "    image = image/255\n",
    "\n",
    "\n",
    "    data.append(image)\n",
    "    categories.append(cat)"
   ]
  },
  {
   "cell_type": "markdown",
   "metadata": {},
   "source": [
    "Split the data into Train- and Testsets and binarize the categories."
   ]
  },
  {
   "cell_type": "code",
   "execution_count": null,
   "metadata": {
    "ExecuteTime": {
     "end_time": "2020-08-09T14:50:08.382660Z",
     "start_time": "2020-08-09T14:50:06.769627Z"
    }
   },
   "outputs": [],
   "source": [
    "# convert the data and labels to NumPy arrays\n",
    "data = np.array(data)\n",
    "categories = np.array(categories)\n",
    "# perform one-hot encoding on the labels\n",
    "lb = LabelBinarizer()\n",
    "categories = lb.fit_transform(categories)\n",
    "# partition the data into training and testing splits using 75% of\n",
    "# the data for training and the remaining 25% for testing\n",
    "(X_train, X_test, y_train, y_test) = train_test_split(data, categories,\n",
    "    test_size=0.25, stratify=categories, random_state=RSEED)"
   ]
  },
  {
   "cell_type": "markdown",
   "metadata": {},
   "source": [
    "Split the Trainset into Train and Validation"
   ]
  },
  {
   "cell_type": "code",
   "execution_count": null,
   "metadata": {
    "ExecuteTime": {
     "end_time": "2020-08-09T14:50:08.897662Z",
     "start_time": "2020-08-09T14:50:08.383627Z"
    }
   },
   "outputs": [],
   "source": [
    "(X_train_cnn, X_val_cnn, y_train_cnn, y_val_cnn) = train_test_split(X_train, y_train,\n",
    "    test_size=0.15, random_state=RSEED)"
   ]
  },
  {
   "cell_type": "markdown",
   "metadata": {},
   "source": [
    "Augmentation for the Images to prevent overfitting especially because of the oversampling in the balancing step."
   ]
  },
  {
   "cell_type": "code",
   "execution_count": null,
   "metadata": {
    "ExecuteTime": {
     "end_time": "2020-08-09T14:50:08.901661Z",
     "start_time": "2020-08-09T14:50:08.898626Z"
    }
   },
   "outputs": [],
   "source": [
    "# initialize the training data augmentation object\n",
    "trainAug = ImageDataGenerator(\n",
    "    rotation_range=45,\n",
    "    zoom_range=0.15,\n",
    "    width_shift_range=0.2,\n",
    "    height_shift_range=0.2,\n",
    "    shear_range=0.15,\n",
    "    horizontal_flip=True,\n",
    "    fill_mode=\"nearest\")\n",
    "# initialize the validation/testing data augmentation object\n",
    "valAug = ImageDataGenerator()"
   ]
  },
  {
   "cell_type": "markdown",
   "metadata": {},
   "source": [
    "Creat our Convulutional Neural Network (CNN):"
   ]
  },
  {
   "cell_type": "code",
   "execution_count": null,
   "metadata": {
    "ExecuteTime": {
     "end_time": "2020-08-09T14:50:09.082696Z",
     "start_time": "2020-08-09T14:50:08.902624Z"
    }
   },
   "outputs": [],
   "source": [
    "model = Sequential([\n",
    "    Conv2D(16, 3, padding='same', activation='relu', input_shape=(128, 128 ,3)),\n",
    "    MaxPooling2D(2),\n",
    "    Conv2D(32, 3, padding='same', activation='relu'),\n",
    "    MaxPooling2D(2),\n",
    "    Conv2D(64, 3, padding='same', activation='relu'),\n",
    "    Flatten(),\n",
    "    Dense(512, activation='relu'),\n",
    "    Dense(4, activation='softmax')\n",
    "])\n",
    "model.compile(optimizer='adam',\n",
    "              loss='categorical_crossentropy',\n",
    "              metrics=['accuracy'])"
   ]
  },
  {
   "cell_type": "code",
   "execution_count": null,
   "metadata": {
    "ExecuteTime": {
     "end_time": "2020-08-09T14:50:09.417116Z",
     "start_time": "2020-08-09T14:50:09.083625Z"
    }
   },
   "outputs": [],
   "source": [
    "plot_model(model, show_shapes=True)"
   ]
  },
  {
   "cell_type": "code",
   "execution_count": null,
   "metadata": {},
   "outputs": [],
   "source": []
  },
  {
   "cell_type": "code",
   "execution_count": null,
   "metadata": {
    "ExecuteTime": {
     "end_time": "2020-08-09T14:50:09.421117Z",
     "start_time": "2020-08-09T14:50:09.418116Z"
    }
   },
   "outputs": [],
   "source": [
    "early_stop = EarlyStopping(monitor='loss', patience=10, verbose=1)"
   ]
  },
  {
   "cell_type": "code",
   "execution_count": null,
   "metadata": {
    "ExecuteTime": {
     "end_time": "2020-08-09T14:54:08.591117Z",
     "start_time": "2020-08-09T14:50:09.422116Z"
    },
    "tags": []
   },
   "outputs": [],
   "source": [
    "training = model.fit(trainAug.flow(X_train_cnn,y_train_cnn, batch_size=64),\n",
    "                        epochs=15,\n",
    "                        steps_per_epoch=40,\n",
    "                        validation_data=valAug.flow(X_val_cnn, y_val_cnn),\n",
    "                        callbacks = [early_stop]\n",
    "         )"
   ]
  },
  {
   "cell_type": "code",
   "execution_count": null,
   "metadata": {
    "ExecuteTime": {
     "end_time": "2020-08-09T14:54:10.664117Z",
     "start_time": "2020-08-09T14:54:08.593117Z"
    }
   },
   "outputs": [],
   "source": [
    "y_pred_cnn = model.predict(X_test)"
   ]
  },
  {
   "cell_type": "code",
   "execution_count": null,
   "metadata": {
    "ExecuteTime": {
     "end_time": "2020-08-09T14:54:10.673120Z",
     "start_time": "2020-08-09T14:54:10.665117Z"
    }
   },
   "outputs": [],
   "source": [
    "def visualize_layer_kernels(img, conv_layer, title):\n",
    "    \"\"\"\n",
    "    Displays how input sample image looks after convolution by each kernel.\n",
    "    \"\"\"\n",
    "    # Extract kernels from given layer\n",
    "    weights1 = conv_layer.get_weights()\n",
    "    kernels = weights1[0]\n",
    "    kernels_num = kernels.shape[3]\n",
    "\n",
    "    # Each row contains 3 images: kernel, input image, output image\n",
    "    f, ax = plt.subplots(kernels_num, 3, figsize=(7, kernels_num * 2))\n",
    "\n",
    "    for i in range(0, kernels_num):\n",
    "        # Get kernel from the layer and draw it\n",
    "        kernel = kernels[:, :, :3, i]\n",
    "        ax[i][0].imshow((kernel * 255).astype(np.uint8), vmin=0, vmax=255)\n",
    "        ax[i][0].set_title(\"Kernel %d\" % i, fontsize=9)\n",
    "\n",
    "        # Get and draw sample image from test data\n",
    "        ax[i][1].imshow((img * 255).astype(np.uint8), vmin=0, vmax=255)\n",
    "        ax[i][1].set_title(\"Before\", fontsize=8)\n",
    "\n",
    "        # Filtered image - apply convolution\n",
    "        img_filt = scipy.ndimage.filters.convolve(img, kernel)\n",
    "        ax[i][2].imshow((img_filt * 255).astype(np.uint8), vmin=0, vmax=255)\n",
    "        ax[i][2].set_title(\"After\", fontsize=8)\n",
    "\n",
    "    plt.suptitle(title)\n",
    "    plt.tight_layout()\n",
    "    plt.subplots_adjust(top=0.93)\n",
    "    plt.show()"
   ]
  },
  {
   "cell_type": "code",
   "execution_count": null,
   "metadata": {
    "ExecuteTime": {
     "end_time": "2020-08-09T14:54:32.777145Z",
     "start_time": "2020-08-09T14:54:10.674117Z"
    }
   },
   "outputs": [],
   "source": [
    "# Take sample image to visualize convolution\n",
    "idx = random.randint(0,len(X_test)-1)\n",
    "img = X_test[idx,:,:,:]\n",
    "#img = img[:,:,:]\n",
    "# Take 1st convolutional layer and look at it's filters\n",
    "conv1 = model.layers[0]\n",
    "visualize_layer_kernels(img, conv1, \"Health CNN layer 0\")\n",
    "\n",
    "# Take sample image to visualize convolutoin\n",
    "idx = random.randint(0,len(X_test)-1)\n",
    "img = X_test[idx,:,:,:]\n",
    "# Take another convolutional layer and look at it's filters\n",
    "conv2 = model.layers[2]\n",
    "visualize_layer_kernels(img, conv2, \"Health CNN layer 2\")"
   ]
  },
  {
   "cell_type": "code",
   "execution_count": null,
   "metadata": {
    "ExecuteTime": {
     "end_time": "2020-08-09T14:54:32.785151Z",
     "start_time": "2020-08-09T14:54:32.778152Z"
    }
   },
   "outputs": [],
   "source": [
    "def eval_model(training, model, test_X, test_y, field_name):\n",
    "    \"\"\"\n",
    "    Model evaluation: plots, classification report\n",
    "    @param training: model training history\n",
    "    @param model: trained model\n",
    "    @param test_X: features \n",
    "    @param test_y: labels\n",
    "    @param field_name: label name to display on plots\n",
    "    \"\"\"\n",
    "    ## Trained model analysis and evaluation\n",
    "    f, ax = plt.subplots(2, 1, figsize=(5, 5))\n",
    "    ax[0].plot(training.history['loss'], label=\"Loss\")\n",
    "    ax[0].plot(training.history['val_loss'], label=\"Validation loss\")\n",
    "    ax[0].set_title('%s: loss' % field_name)\n",
    "    ax[0].set_xlabel('Epoch')\n",
    "    ax[0].set_ylabel('Loss')\n",
    "    ax[0].legend()\n",
    "\n",
    "    # Accuracy\n",
    "    ax[1].plot(training.history['acc'], label=\"Accuracy\")\n",
    "    ax[1].plot(training.history['val_acc'], label=\"Validation accuracy\")\n",
    "    ax[1].set_title('%s: accuracy' % field_name)\n",
    "    ax[1].set_xlabel('Epoch')\n",
    "    ax[1].set_ylabel('Accuracy')\n",
    "    ax[1].legend()\n",
    "    plt.tight_layout()\n",
    "    plt.show()\n",
    "\n",
    "    # Accuracy by subspecies\n",
    "    test_pred = model.predict(test_X)\n",
    "\n",
    "    #acc_by_subspecies = np.logical_and(\n",
    "    #    (test_pred > 0.5), test_y).sum() / test_y.sum()\n",
    "    #acc_by_subspecies.plot(kind='bar', title='Accuracy by %s' % field_name)\n",
    "    #plt.ylabel('Accuracy')\n",
    "    #plt.show()\n",
    "\n",
    "    # Print metrics\n",
    "    print(\"Classification report\")\n",
    "    test_pred = np.argmax(test_pred, axis=1)\n",
    "    test_truth = np.argmax(test_y, axis=1)\n",
    "    print(\n",
    "        metrics.classification_report(test_truth,\n",
    "                                      test_pred,\n",
    "                                      target_names=health_cats))\n",
    "\n",
    "    # Loss function and accuracy\n",
    "    test_res = model.evaluate(test_X, test_y, verbose=0)\n",
    "    print('Loss function: %s, accuracy:' % test_res[0], test_res[1])"
   ]
  },
  {
   "cell_type": "code",
   "execution_count": null,
   "metadata": {
    "ExecuteTime": {
     "end_time": "2020-08-09T14:54:37.313116Z",
     "start_time": "2020-08-09T14:54:32.788150Z"
    },
    "scrolled": true,
    "tags": []
   },
   "outputs": [],
   "source": [
    "eval_model(training, model, X_test, y_test, 'health')"
   ]
  },
  {
   "cell_type": "markdown",
   "metadata": {},
   "source": [
    "The CNN achieved a accuracy rate of 95% and got overall much better scores than the Base Model."
   ]
  },
  {
   "cell_type": "code",
   "execution_count": null,
   "metadata": {
    "ExecuteTime": {
     "end_time": "2020-08-09T14:54:39.502118Z",
     "start_time": "2020-08-09T14:54:37.314117Z"
    }
   },
   "outputs": [],
   "source": [
    "y_pred = model.predict(X_test)\n",
    "test_truth = np.argmax(y_test, axis=1)\n",
    "y_pred_final = np.argmax(y_pred, axis=1)\n",
    "right_cnn = y_pred_final == test_truth\n",
    "health_cats"
   ]
  },
  {
   "cell_type": "code",
   "execution_count": null,
   "metadata": {
    "ExecuteTime": {
     "end_time": "2020-08-09T14:54:39.507115Z",
     "start_time": "2020-08-09T14:54:39.503116Z"
    }
   },
   "outputs": [],
   "source": [
    "classes_dic = {\n",
    "    0: \"Ant Problem\",\n",
    "    1: 'Healthy',\n",
    "    2: 'Hive Beeing Robbed',\n",
    "    3: 'Varroa Mites or Hive Beetles'\n",
    "}"
   ]
  },
  {
   "cell_type": "code",
   "execution_count": null,
   "metadata": {
    "ExecuteTime": {
     "end_time": "2020-08-09T14:54:40.245144Z",
     "start_time": "2020-08-09T14:54:39.508118Z"
    },
    "scrolled": true
   },
   "outputs": [],
   "source": [
    "fig, ax = plt.subplots(4, 6, figsize=(12, 12))\n",
    "counter = 0\n",
    "for i, axi in enumerate(ax.flat):\n",
    "    axi.imshow(X_test[i], cmap='bone')\n",
    "    axi.set(xticks=[], yticks=[])\n",
    "    axi.set_ylabel(classes_dic[y_pred_final[i]],\n",
    "                   color='black' if right_cnn[i] else 'red')\n",
    "\n",
    "fig.suptitle('Predicted Names; Incorrect Labels in Red', size=14);"
   ]
  },
  {
   "cell_type": "markdown",
   "metadata": {},
   "source": [
    "# Conclusion"
   ]
  },
  {
   "cell_type": "markdown",
   "metadata": {},
   "source": [
    "- [x] Cleaned and balanced the data.\n",
    "- [x] Made a decent Base Model. \n",
    "- [x] Created a CNN that exceeds the Base Model. \n",
    "- [x] Moved into the Google Cloud. \n",
    "- [x] Created a Google Vision Model.\n",
    "- [ ] Installed a live tracking device of Temperature and Humidity. \n",
    "- [ ] Created an app for detecting the health status of beehives with GCP\n"
   ]
  },
  {
   "cell_type": "markdown",
   "metadata": {},
   "source": [
    "The main goal the make a model that predicts the health status of beehives was fullfilled. The **Convolutional Neural Network** that I created predicts the test images with an **accuracy of 98%**. That means the model is right in 98% of the cases.  "
   ]
  },
  {
   "cell_type": "markdown",
   "metadata": {},
   "source": [
    "# Future Work\n",
    "Implementing an Object Detection Model in GCP to predict live stream images of beehives and track the humidity and temperature of the beehives with a graphical interface."
   ]
  },
  {
   "cell_type": "code",
   "execution_count": null,
   "metadata": {},
   "outputs": [],
   "source": []
  }
 ],
 "metadata": {
  "kernelspec": {
   "display_name": ".venv",
   "language": "python",
   "name": "python3"
  },
  "language_info": {
   "codemirror_mode": {
    "name": "ipython",
    "version": 3
   },
   "file_extension": ".py",
   "mimetype": "text/x-python",
   "name": "python",
   "nbconvert_exporter": "python",
   "pygments_lexer": "ipython3",
   "version": "3.11.3"
  },
  "latex_envs": {
   "LaTeX_envs_menu_present": true,
   "autoclose": false,
   "autocomplete": true,
   "bibliofile": "biblio.bib",
   "cite_by": "apalike",
   "current_citInitial": 1,
   "eqLabelWithNumbers": true,
   "eqNumInitial": 1,
   "hotkeys": {
    "equation": "Ctrl-E",
    "itemize": "Ctrl-I"
   },
   "labels_anchors": false,
   "latex_user_defs": false,
   "report_style_numbering": false,
   "user_envs_cfg": false
  },
  "toc": {
   "base_numbering": 1,
   "nav_menu": {},
   "number_sections": true,
   "sideBar": true,
   "skip_h1_title": false,
   "title_cell": "Table of Contents",
   "title_sidebar": "Contents",
   "toc_cell": false,
   "toc_position": {
    "height": "calc(100% - 180px)",
    "left": "10px",
    "top": "150px",
    "width": "512px"
   },
   "toc_section_display": true,
   "toc_window_display": true
  }
 },
 "nbformat": 4,
 "nbformat_minor": 4
}
